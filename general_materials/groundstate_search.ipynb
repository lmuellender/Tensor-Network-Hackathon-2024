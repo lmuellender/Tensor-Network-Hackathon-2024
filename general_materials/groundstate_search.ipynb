{
 "cells": [
  {
   "attachments": {},
   "cell_type": "markdown",
   "metadata": {},
   "source": [
    "# Running the groundstate search for 1D quantum Ising model in qtealeaves\n",
    "\n",
    "We are interested in the Ising model, defined with the Hamiltonian:\n",
    "\n",
    "$\\hat{H} = - J\\sum_{<ij>}\\sigma_x^i \\sigma_x^j - h \\sum_i \\sigma_z^i $\n",
    "\n",
    "We would like to find the groundstate energy and measure local observable $<\\sigma_z^i>$ on every site $i$ and correlation matrix $<\\sigma_x^i \\sigma_x^j>$."
   ]
  },
  {
   "cell_type": "code",
   "execution_count": 1,
   "metadata": {},
   "outputs": [],
   "source": [
    "import itertools\n",
    "import numpy as np\n",
    "import qtealeaves as qtl"
   ]
  },
  {
   "attachments": {},
   "cell_type": "markdown",
   "metadata": {},
   "source": [
    "## Example 1: \n",
    "Suppose we want to run the groundstate search for two system sizes and one external field value.\n",
    "\n",
    "First, we create the list of parameters dictionaries in which we specify these values. Input can be parametrized, meaning that the actual values of the input parameters do not to be explicitly specified for defining the simulations. The actual values are evaluated only when we run the actual simulation."
   ]
  },
  {
   "cell_type": "code",
   "execution_count": null,
   "metadata": {},
   "outputs": [],
   "source": [
    "# number of particles\n",
    "sizes = [8, 16]\n",
    "# external field value\n",
    "external_fields = [0.5]\n",
    "\n",
    "# this will be the list with parameter dictionaries that will\n",
    "# be passed to a simulation\n",
    "params = []\n",
    "\n",
    "# itertools: 1st one iterates slowly\n",
    "for size, external_field in itertools.product(sizes, external_fields):\n",
    "    params.append({\n",
    "            'L' : size, \n",
    "            'J' : 1.0, # interaction strength\n",
    "            'g' : external_field, \n",
    "       })\n",
    "\n",
    "for elem in params:\n",
    "    print(elem)"
   ]
  },
  {
   "attachments": {},
   "cell_type": "markdown",
   "metadata": {},
   "source": [
    "### Model and operators needed for the model \n",
    "In this case we want to run simulations for quantum Ising model in 1D with open boundary conditions.\n",
    "There is the build-in function for getting this model, but we can also build it from scratch\n",
    "\n",
    "The model is parametrized, meaning that it depends on the values from the “params“ dictionary."
   ]
  },
  {
   "attachments": {},
   "cell_type": "markdown",
   "metadata": {},
   "source": [
    "**Option #1:** building a model from scratch"
   ]
  },
  {
   "cell_type": "code",
   "execution_count": null,
   "metadata": {},
   "outputs": [],
   "source": [
    "from qtealeaves import modeling\n",
    "\n",
    "# Hamiltonian will depend on the value of external field \"g\" from params\n",
    "model_name = lambda params: \"QIsing_g%2.4f\" % (params[\"g\"])\n",
    "\n",
    "# Define a general quantum model - 1-dimensional, of size \"L\", with a given name\n",
    "model = modeling.QuantumModel(dim=1, lvals=\"L\", name=model_name)\n",
    "\n",
    "# which operators we need for defining a model - we need spin-1/2 operators\n",
    "# each operator is labeled with a string - we need \"sz\", \"sx\"\n",
    "# spin-1/2 operators are already defined within the library, but in principle\n",
    "# one can define an arbitrary operator\n",
    "my_ops = qtl.operators.TNSpin12Operators()\n",
    "\n",
    "# Add the Hamiltonian terms, the values for strength are read from params dictionary\n",
    "model += modeling.LocalTerm(operator=\"sz\", strength=\"g\", prefactor=-1)\n",
    "model += modeling.TwoBodyTerm1D(\n",
    "    operators=[\"sx\", \"sx\"], shift=1, strength=\"J\", prefactor=-1, has_obc=True\n",
    ")"
   ]
  },
  {
   "attachments": {},
   "cell_type": "markdown",
   "metadata": {},
   "source": [
    "**Option #2:** use a built-in function"
   ]
  },
  {
   "cell_type": "code",
   "execution_count": null,
   "metadata": {},
   "outputs": [],
   "source": [
    "model, my_ops = qtl.models.get_quantum_ising_1d()"
   ]
  },
  {
   "attachments": {},
   "cell_type": "markdown",
   "metadata": {},
   "source": [
    "### Observables\n",
    "\n",
    "observables = quantities which we want to measure in a simulation\n",
    "\n",
    "In this example, we measure:\n",
    "- energy\n",
    "- local observable $<\\sigma_z>$ at every site\n",
    "- correlations $<\\sigma_x \\sigma_x>$ over all sites"
   ]
  },
  {
   "cell_type": "code",
   "execution_count": null,
   "metadata": {},
   "outputs": [],
   "source": [
    "# first define a general TNObservables class\n",
    "my_obs = qtl.observables.TNObservables()\n",
    "\n",
    "# then we add in it the observables that we want - energy is measured by default\n",
    "my_obs += qtl.observables.TNObsLocal(name = '<z>',\n",
    "                                     operator = 'sz')\n",
    "my_obs += qtl.observables.TNObsCorr(name = '<xx>',\n",
    "                                    operators = ['sx', 'sx'])\n"
   ]
  },
  {
   "attachments": {},
   "cell_type": "markdown",
   "metadata": {},
   "source": [
    "### Convergence parameters\n",
    "For groundstate search we need:\n",
    "\n",
    "- **Maximal bond dimension**: maximal bond dimension that can be reached in a tensor network = in every SVD decomposition we keep maximally \"max_bond_dim\" values\n",
    "\n",
    "- **Cut ratio**: cut ration after which the singular values are discarded = when rescaling all the singular values with the largest singular value, we discard of them which are smaller than \"cut_ratio\"\n",
    "\n",
    "- **Number of iterations** : number of sweeps in the DMRG groundstate search"
   ]
  },
  {
   "cell_type": "code",
   "execution_count": null,
   "metadata": {},
   "outputs": [],
   "source": [
    "from qtealeaves.convergence_parameters import TNConvergenceParameters\n",
    "\n",
    "max_bond_dim = 10\n",
    "cut_ratio = 1e-6\n",
    "max_iter = 3\n",
    "\n",
    "# we put it all into the TNConvergenceParameters object\n",
    "conv_params = TNConvergenceParameters(max_bond_dimension = max_bond_dim,\n",
    "                                      cut_ratio = cut_ratio,\n",
    "                                      max_iter = max_iter,\n",
    "                                      data_type='D', # double precision real\n",
    "                                      device='cpu', # we are running on CPUs\n",
    "                                      )"
   ]
  },
  {
   "attachments": {},
   "cell_type": "markdown",
   "metadata": {},
   "source": [
    "### Input/output folders\n",
    "\n",
    "- in input folder the library writes all the neccessary input files for the simulation\n",
    "- in output folder the results will be stored"
   ]
  },
  {
   "cell_type": "code",
   "execution_count": null,
   "metadata": {},
   "outputs": [],
   "source": [
    "input_folder = lambda params : 'input_L%02d_g%2.4f'%(\n",
    "        params['L'],\n",
    "        params['g'],\n",
    "    )\n",
    "\n",
    "output_folder = lambda params : 'output_L%02d_g%2.4f'%(\n",
    "        params['L'],\n",
    "        params['g'],\n",
    "    )"
   ]
  },
  {
   "attachments": {},
   "cell_type": "markdown",
   "metadata": {},
   "source": [
    "### Define the simulation\n",
    "\n",
    "Now we are ready to define the simulation with all this input. In qtealeaves, simulations are defined as the QuantumGreenTeaSimulation class.\n",
    "\n",
    "In addition, we need to specify the following:\n",
    "- tensor network type: 5 is for TTN, 6 is for MPS\n",
    "- tensor backend: 2 means QTeaTensor\n",
    "\n"
   ]
  },
  {
   "cell_type": "code",
   "execution_count": null,
   "metadata": {},
   "outputs": [],
   "source": [
    "simulation = qtl.QuantumGreenTeaSimulation(model, my_ops, conv_params, my_obs,\n",
    "                                    tn_type=5,\n",
    "                                    tensor_backend=2,\n",
    "                                    folder_name_input=input_folder,\n",
    "                                    folder_name_output=output_folder,\n",
    "                                    store_checkpoints=False\n",
    "    )"
   ]
  },
  {
   "attachments": {},
   "cell_type": "markdown",
   "metadata": {},
   "source": [
    "### Run the simulation and get the results\n",
    "\n",
    "We loop over all the combinations of parameters which we specified earlier, run the simulation for each of them, and store the results."
   ]
  },
  {
   "cell_type": "code",
   "execution_count": null,
   "metadata": {},
   "outputs": [],
   "source": [
    "results = []\n",
    "for elem in params:\n",
    "    print('params = ', elem)\n",
    "    \n",
    "    # run the simulation\n",
    "    simulation.run(elem, delete_existing_folder=True)\n",
    "\n",
    "    # get the results\n",
    "    results.append( simulation.get_static_obs(elem) )"
   ]
  },
  {
   "attachments": {},
   "cell_type": "markdown",
   "metadata": {},
   "source": [
    "### See the results"
   ]
  },
  {
   "cell_type": "code",
   "execution_count": null,
   "metadata": {},
   "outputs": [],
   "source": [
    "# loop over the parameter combinations and get the results for each of them\n",
    "for ii, elem in enumerate(params):\n",
    "    energy = results[ii]['energy']\n",
    "    localz = results[ii]['<z>']\n",
    "    corrxx = results[ii]['<xx>'][:5,:5]\n",
    "\n",
    "    print('\\nparams : ', elem)\n",
    "    \n",
    "    print('Energy = ', energy)\n",
    "    print('Local z = ', localz)\n",
    "    print('Corrxx = ', corrxx)"
   ]
  },
  {
   "attachments": {},
   "cell_type": "markdown",
   "metadata": {},
   "source": [
    "## Example 2\n",
    "**Running multiple parameters in parallel on a cluster**\n",
    "\n",
    "There is a simple way of launching the parallel simulations with different input on a cluster via the single script. The setup is the same as above up to the part when we run the actual simulations.\n",
    "\n",
    "For running in parallel, go with:\n",
    "\n",
    "`simulation.run(params, delete_existing_folder=True, nthreads=<num_parallel_simulations>)`,\n",
    "\n",
    "where `params` is a list of input parameters as in Example 2.\n",
    "\n",
    "**Remark:**\n",
    "In this case, you must specify the number of MKL and OMP threads in the sbatch script to be equal to 1, i.e. add the following lines to the sbatch script:\n",
    "\n",
    "`export MKL_NUM_THREADS=1`\n",
    "\n",
    "`export OMP_NUM_THREADS=1`\n",
    "\n",
    "This ensures that the simulations are parallelized over the input, and not parallelizing the numpy operations which can be done by multithreading on multiple CPUs."
   ]
  },
  {
   "cell_type": "code",
   "execution_count": null,
   "metadata": {},
   "outputs": [],
   "source": []
  }
 ],
 "metadata": {
  "kernelspec": {
   "display_name": "base",
   "language": "python",
   "name": "python3"
  },
  "language_info": {
   "codemirror_mode": {
    "name": "ipython",
    "version": 3
   },
   "file_extension": ".py",
   "mimetype": "text/x-python",
   "name": "python",
   "nbconvert_exporter": "python",
   "pygments_lexer": "ipython3",
   "version": "3.12.3"
  },
  "orig_nbformat": 4,
  "vscode": {
   "interpreter": {
    "hash": "aecf5bd42e5f1dd7c0c8decd0b1ee6d04a31e216d242184817f638622d944c09"
   }
  }
 },
 "nbformat": 4,
 "nbformat_minor": 2
}
